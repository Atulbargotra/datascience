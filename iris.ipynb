from sklearn import datasets
import matplotlib.pyplot as plt
import numpy as np
import pandas as pd
plt.style.use('ggplot')
iris = datasets.load_iris()

X = iris.data
y = iris.target
df = pd.DataFrame(X,columns = iris.feature_names)
df.head()